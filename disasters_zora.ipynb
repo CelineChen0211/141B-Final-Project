{
 "cells": [
  {
   "cell_type": "code",
   "execution_count": 1,
   "metadata": {
    "collapsed": true
   },
   "outputs": [],
   "source": [
    "#read in data file disasters.csv\n",
    "import pandas as pd"
   ]
  },
  {
   "cell_type": "code",
   "execution_count": 6,
   "metadata": {
    "collapsed": false
   },
   "outputs": [
    {
     "name": "stdout",
     "output_type": "stream",
     "text": [
      "<class 'pandas.core.frame.DataFrame'>\n",
      "RangeIndex: 12183 entries, 0 to 12182\n",
      "Data columns (total 9 columns):\n",
      "date_started      12183 non-null object\n",
      "date_ended        11848 non-null object\n",
      "disaster_type     12183 non-null object\n",
      "incident_type     12183 non-null object\n",
      "incident_title    12183 non-null object\n",
      "days_lasted       11848 non-null float64\n",
      "county            12183 non-null object\n",
      "state_abbr        12183 non-null object\n",
      "fip_code          12183 non-null object\n",
      "dtypes: float64(1), object(8)\n",
      "memory usage: 856.7+ KB\n",
      "None\n"
     ]
    },
    {
     "data": {
      "text/html": [
       "<div>\n",
       "<table border=\"1\" class=\"dataframe\">\n",
       "  <thead>\n",
       "    <tr style=\"text-align: right;\">\n",
       "      <th></th>\n",
       "      <th>date_started</th>\n",
       "      <th>date_ended</th>\n",
       "      <th>disaster_type</th>\n",
       "      <th>incident_type</th>\n",
       "      <th>incident_title</th>\n",
       "      <th>days_lasted</th>\n",
       "      <th>county</th>\n",
       "      <th>state_abbr</th>\n",
       "      <th>fip_code</th>\n",
       "    </tr>\n",
       "  </thead>\n",
       "  <tbody>\n",
       "    <tr>\n",
       "      <th>0</th>\n",
       "      <td>1965-04-14</td>\n",
       "      <td>1965-04-14</td>\n",
       "      <td>DR</td>\n",
       "      <td>Tornado</td>\n",
       "      <td>Tornadoes &amp; Severe Storms</td>\n",
       "      <td>0.0</td>\n",
       "      <td>Howard County</td>\n",
       "      <td>IN</td>\n",
       "      <td>IN-067</td>\n",
       "    </tr>\n",
       "    <tr>\n",
       "      <th>1</th>\n",
       "      <td>2005-08-29</td>\n",
       "      <td>2005-10-01</td>\n",
       "      <td>EM</td>\n",
       "      <td>Hurricane</td>\n",
       "      <td>Hurricane Katrina Evacuation</td>\n",
       "      <td>33.0</td>\n",
       "      <td>Howard County</td>\n",
       "      <td>IN</td>\n",
       "      <td>IN-067</td>\n",
       "    </tr>\n",
       "    <tr>\n",
       "      <th>2</th>\n",
       "      <td>1965-04-14</td>\n",
       "      <td>1965-04-14</td>\n",
       "      <td>DR</td>\n",
       "      <td>Tornado</td>\n",
       "      <td>Tornadoes &amp; Severe Storms</td>\n",
       "      <td>0.0</td>\n",
       "      <td>Grant County</td>\n",
       "      <td>IN</td>\n",
       "      <td>IN-053</td>\n",
       "    </tr>\n",
       "    <tr>\n",
       "      <th>3</th>\n",
       "      <td>1974-04-04</td>\n",
       "      <td>1974-04-04</td>\n",
       "      <td>DR</td>\n",
       "      <td>Tornado</td>\n",
       "      <td>Tornadoes</td>\n",
       "      <td>0.0</td>\n",
       "      <td>Grant County</td>\n",
       "      <td>IN</td>\n",
       "      <td>IN-053</td>\n",
       "    </tr>\n",
       "    <tr>\n",
       "      <th>4</th>\n",
       "      <td>2005-08-29</td>\n",
       "      <td>2005-10-01</td>\n",
       "      <td>EM</td>\n",
       "      <td>Hurricane</td>\n",
       "      <td>Hurricane Katrina Evacuation</td>\n",
       "      <td>33.0</td>\n",
       "      <td>Grant County</td>\n",
       "      <td>IN</td>\n",
       "      <td>IN-053</td>\n",
       "    </tr>\n",
       "  </tbody>\n",
       "</table>\n",
       "</div>"
      ],
      "text/plain": [
       "  date_started  date_ended disaster_type incident_type  \\\n",
       "0   1965-04-14  1965-04-14            DR       Tornado   \n",
       "1   2005-08-29  2005-10-01            EM     Hurricane   \n",
       "2   1965-04-14  1965-04-14            DR       Tornado   \n",
       "3   1974-04-04  1974-04-04            DR       Tornado   \n",
       "4   2005-08-29  2005-10-01            EM     Hurricane   \n",
       "\n",
       "                 incident_title  days_lasted         county state_abbr  \\\n",
       "0     Tornadoes & Severe Storms          0.0  Howard County         IN   \n",
       "1  Hurricane Katrina Evacuation         33.0  Howard County         IN   \n",
       "2     Tornadoes & Severe Storms          0.0   Grant County         IN   \n",
       "3                     Tornadoes          0.0   Grant County         IN   \n",
       "4  Hurricane Katrina Evacuation         33.0   Grant County         IN   \n",
       "\n",
       "  fip_code  \n",
       "0   IN-067  \n",
       "1   IN-067  \n",
       "2   IN-053  \n",
       "3   IN-053  \n",
       "4   IN-053  "
      ]
     },
     "execution_count": 6,
     "metadata": {},
     "output_type": "execute_result"
    }
   ],
   "source": [
    "disasters = pd.read_csv('disasters.csv',usecols=[0,1,2,3,4,5,6,8,11],header =0)\n",
    "            \n",
    "print disasters.info()\n",
    "disasters.head()"
   ]
  },
  {
   "cell_type": "code",
   "execution_count": null,
   "metadata": {
    "collapsed": true
   },
   "outputs": [],
   "source": []
  }
 ],
 "metadata": {
  "kernelspec": {
   "display_name": "Python 2",
   "language": "python",
   "name": "python2"
  },
  "language_info": {
   "codemirror_mode": {
    "name": "ipython",
    "version": 2
   },
   "file_extension": ".py",
   "mimetype": "text/x-python",
   "name": "python",
   "nbconvert_exporter": "python",
   "pygments_lexer": "ipython2",
   "version": "2.7.13"
  }
 },
 "nbformat": 4,
 "nbformat_minor": 0
}
