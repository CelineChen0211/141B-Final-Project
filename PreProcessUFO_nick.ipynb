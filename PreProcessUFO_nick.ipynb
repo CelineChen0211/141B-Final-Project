{
 "cells": [
  {
   "cell_type": "markdown",
   "metadata": {},
   "source": [
    "# Preprocessing UFOs"
   ]
  },
  {
   "cell_type": "markdown",
   "metadata": {},
   "source": [
    "## Importing and checking data types"
   ]
  },
  {
   "cell_type": "code",
   "execution_count": 1,
   "metadata": {
    "collapsed": false
   },
   "outputs": [
    {
     "name": "stderr",
     "output_type": "stream",
     "text": [
      "//anaconda/envs/py27/lib/python2.7/site-packages/IPython/core/interactiveshell.py:2717: DtypeWarning: Columns (5,9) have mixed types. Specify dtype option on import or set low_memory=False.\n",
      "  interactivity=interactivity, compiler=compiler, result=result)\n"
     ]
    },
    {
     "name": "stdout",
     "output_type": "stream",
     "text": [
      "<class 'pandas.core.frame.DataFrame'>\n",
      "RangeIndex: 80332 entries, 0 to 80331\n",
      "Data columns (total 11 columns):\n",
      "date_seen       80332 non-null object\n",
      "city            80332 non-null object\n",
      "state_abbr      74535 non-null object\n",
      "country         70662 non-null object\n",
      "shape           78400 non-null object\n",
      "duration_sec    80332 non-null object\n",
      "duration_min    80332 non-null object\n",
      "comments        80317 non-null object\n",
      "date_posted     80332 non-null datetime64[ns]\n",
      "latitude        80332 non-null object\n",
      "longitude       80332 non-null float64\n",
      "dtypes: datetime64[ns](1), float64(1), object(9)\n",
      "memory usage: 6.7+ MB\n"
     ]
    }
   ],
   "source": [
    "import pandas as pd\n",
    "\n",
    "ufo_path = '~/Desktop/STA 141B/141B-Final-Project/ufo-sightings/scrubbed.csv'\n",
    "\n",
    "# http://pandas.pydata.org/pandas-docs/stable/generated/pandas.read_csv.html\n",
    "ufos = pd.read_csv(ufo_path, header=0,\n",
    "                   names=['date_seen', 'city', 'state_abbr', 'country', 'shape', 'duration_sec',\n",
    "                          'duration_min', 'comments', 'date_posted', 'latitude', 'longitude'],\n",
    "                   parse_dates=['date_posted'], infer_datetime_format=True)\n",
    "\n",
    "# check data types\n",
    "ufos.info()"
   ]
  },
  {
   "cell_type": "markdown",
   "metadata": {},
   "source": [
    "## Change columns data type"
   ]
  },
  {
   "cell_type": "code",
   "execution_count": 2,
   "metadata": {
    "collapsed": false
   },
   "outputs": [
    {
     "ename": "ValueError",
     "evalue": "('Unable to parse string \"2`\" at position 27822', u'occurred at index duration_sec')",
     "output_type": "error",
     "traceback": [
      "\u001b[0;31m---------------------------------------------------------------------------\u001b[0m",
      "\u001b[0;31mValueError\u001b[0m                                Traceback (most recent call last)",
      "\u001b[0;32m<ipython-input-2-05396e2caaba>\u001b[0m in \u001b[0;36m<module>\u001b[0;34m()\u001b[0m\n\u001b[1;32m      1\u001b[0m \u001b[0;31m# change duration in seconds and latitude to numeric\u001b[0m\u001b[0;34m\u001b[0m\u001b[0;34m\u001b[0m\u001b[0m\n\u001b[0;32m----> 2\u001b[0;31m \u001b[0mufos\u001b[0m\u001b[0;34m[\u001b[0m\u001b[0;34m[\u001b[0m\u001b[0;34m'duration_sec'\u001b[0m\u001b[0;34m,\u001b[0m \u001b[0;34m'latitude'\u001b[0m\u001b[0;34m]\u001b[0m\u001b[0;34m]\u001b[0m \u001b[0;34m=\u001b[0m \u001b[0mufos\u001b[0m\u001b[0;34m[\u001b[0m\u001b[0;34m[\u001b[0m\u001b[0;34m'duration_sec'\u001b[0m\u001b[0;34m,\u001b[0m \u001b[0;34m'latitude'\u001b[0m\u001b[0;34m]\u001b[0m\u001b[0;34m]\u001b[0m\u001b[0;34m.\u001b[0m\u001b[0mapply\u001b[0m\u001b[0;34m(\u001b[0m\u001b[0mpd\u001b[0m\u001b[0;34m.\u001b[0m\u001b[0mto_numeric\u001b[0m\u001b[0;34m)\u001b[0m\u001b[0;34m\u001b[0m\u001b[0m\n\u001b[0m",
      "\u001b[0;32m//anaconda/envs/py27/lib/python2.7/site-packages/pandas/core/frame.pyc\u001b[0m in \u001b[0;36mapply\u001b[0;34m(self, func, axis, broadcast, raw, reduce, args, **kwds)\u001b[0m\n\u001b[1;32m   4150\u001b[0m                     \u001b[0;32mif\u001b[0m \u001b[0mreduce\u001b[0m \u001b[0;32mis\u001b[0m \u001b[0mNone\u001b[0m\u001b[0;34m:\u001b[0m\u001b[0;34m\u001b[0m\u001b[0m\n\u001b[1;32m   4151\u001b[0m                         \u001b[0mreduce\u001b[0m \u001b[0;34m=\u001b[0m \u001b[0mTrue\u001b[0m\u001b[0;34m\u001b[0m\u001b[0m\n\u001b[0;32m-> 4152\u001b[0;31m                     \u001b[0;32mreturn\u001b[0m \u001b[0mself\u001b[0m\u001b[0;34m.\u001b[0m\u001b[0m_apply_standard\u001b[0m\u001b[0;34m(\u001b[0m\u001b[0mf\u001b[0m\u001b[0;34m,\u001b[0m \u001b[0maxis\u001b[0m\u001b[0;34m,\u001b[0m \u001b[0mreduce\u001b[0m\u001b[0;34m=\u001b[0m\u001b[0mreduce\u001b[0m\u001b[0;34m)\u001b[0m\u001b[0;34m\u001b[0m\u001b[0m\n\u001b[0m\u001b[1;32m   4153\u001b[0m             \u001b[0;32melse\u001b[0m\u001b[0;34m:\u001b[0m\u001b[0;34m\u001b[0m\u001b[0m\n\u001b[1;32m   4154\u001b[0m                 \u001b[0;32mreturn\u001b[0m \u001b[0mself\u001b[0m\u001b[0;34m.\u001b[0m\u001b[0m_apply_broadcast\u001b[0m\u001b[0;34m(\u001b[0m\u001b[0mf\u001b[0m\u001b[0;34m,\u001b[0m \u001b[0maxis\u001b[0m\u001b[0;34m)\u001b[0m\u001b[0;34m\u001b[0m\u001b[0m\n",
      "\u001b[0;32m//anaconda/envs/py27/lib/python2.7/site-packages/pandas/core/frame.pyc\u001b[0m in \u001b[0;36m_apply_standard\u001b[0;34m(self, func, axis, ignore_failures, reduce)\u001b[0m\n\u001b[1;32m   4246\u001b[0m             \u001b[0;32mtry\u001b[0m\u001b[0;34m:\u001b[0m\u001b[0;34m\u001b[0m\u001b[0m\n\u001b[1;32m   4247\u001b[0m                 \u001b[0;32mfor\u001b[0m \u001b[0mi\u001b[0m\u001b[0;34m,\u001b[0m \u001b[0mv\u001b[0m \u001b[0;32min\u001b[0m \u001b[0menumerate\u001b[0m\u001b[0;34m(\u001b[0m\u001b[0mseries_gen\u001b[0m\u001b[0;34m)\u001b[0m\u001b[0;34m:\u001b[0m\u001b[0;34m\u001b[0m\u001b[0m\n\u001b[0;32m-> 4248\u001b[0;31m                     \u001b[0mresults\u001b[0m\u001b[0;34m[\u001b[0m\u001b[0mi\u001b[0m\u001b[0;34m]\u001b[0m \u001b[0;34m=\u001b[0m \u001b[0mfunc\u001b[0m\u001b[0;34m(\u001b[0m\u001b[0mv\u001b[0m\u001b[0;34m)\u001b[0m\u001b[0;34m\u001b[0m\u001b[0m\n\u001b[0m\u001b[1;32m   4249\u001b[0m                     \u001b[0mkeys\u001b[0m\u001b[0;34m.\u001b[0m\u001b[0mappend\u001b[0m\u001b[0;34m(\u001b[0m\u001b[0mv\u001b[0m\u001b[0;34m.\u001b[0m\u001b[0mname\u001b[0m\u001b[0;34m)\u001b[0m\u001b[0;34m\u001b[0m\u001b[0m\n\u001b[1;32m   4250\u001b[0m             \u001b[0;32mexcept\u001b[0m \u001b[0mException\u001b[0m \u001b[0;32mas\u001b[0m \u001b[0me\u001b[0m\u001b[0;34m:\u001b[0m\u001b[0;34m\u001b[0m\u001b[0m\n",
      "\u001b[0;32m//anaconda/envs/py27/lib/python2.7/site-packages/pandas/tools/util.pyc\u001b[0m in \u001b[0;36mto_numeric\u001b[0;34m(arg, errors, downcast)\u001b[0m\n\u001b[1;32m    193\u001b[0m             \u001b[0mcoerce_numeric\u001b[0m \u001b[0;34m=\u001b[0m \u001b[0mFalse\u001b[0m \u001b[0;32mif\u001b[0m \u001b[0merrors\u001b[0m \u001b[0;32min\u001b[0m \u001b[0;34m(\u001b[0m\u001b[0;34m'ignore'\u001b[0m\u001b[0;34m,\u001b[0m \u001b[0;34m'raise'\u001b[0m\u001b[0;34m)\u001b[0m \u001b[0;32melse\u001b[0m \u001b[0mTrue\u001b[0m\u001b[0;34m\u001b[0m\u001b[0m\n\u001b[1;32m    194\u001b[0m             values = lib.maybe_convert_numeric(values, set(),\n\u001b[0;32m--> 195\u001b[0;31m                                                coerce_numeric=coerce_numeric)\n\u001b[0m\u001b[1;32m    196\u001b[0m \u001b[0;34m\u001b[0m\u001b[0m\n\u001b[1;32m    197\u001b[0m     \u001b[0;32mexcept\u001b[0m \u001b[0mException\u001b[0m\u001b[0;34m:\u001b[0m\u001b[0;34m\u001b[0m\u001b[0m\n",
      "\u001b[0;32mpandas/src/inference.pyx\u001b[0m in \u001b[0;36mpandas.lib.maybe_convert_numeric (pandas/lib.c:56097)\u001b[0;34m()\u001b[0m\n",
      "\u001b[0;31mValueError\u001b[0m: ('Unable to parse string \"2`\" at position 27822', u'occurred at index duration_sec')"
     ]
    }
   ],
   "source": [
    "# change duration in seconds and latitude to numeric\n",
    "ufos[['duration_sec', 'latitude']] = ufos[['duration_sec', 'latitude']].apply(pd.to_numeric)"
   ]
  },
  {
   "cell_type": "code",
   "execution_count": 3,
   "metadata": {
    "collapsed": false
   },
   "outputs": [
    {
     "name": "stdout",
     "output_type": "stream",
     "text": [
      "             date_seen               city state_abbr country   shape  \\\n",
      "27822   2/2/2000 19:33              bouse         az      us     NaN   \n",
      "35692  4/10/2005 22:52         santa cruz         ca      us     NaN   \n",
      "58591  7/21/2006 13:00  ibague (colombia)        NaN     NaN  circle   \n",
      "\n",
      "      duration_sec        duration_min  \\\n",
      "27822           2`  each a few seconds   \n",
      "35692           8`       eight seconds   \n",
      "58591         0.5`         1/2 segundo   \n",
      "\n",
      "                                                comments date_posted  \\\n",
      "27822  Driving through Plomosa Pass towards Bouse Loo...  2000-02-16   \n",
      "35692  2 red lights moving together and apart with a ...  2005-04-16   \n",
      "58591  Viajaba a 27.000 pies en un avion comercial ve...  2006-10-30   \n",
      "\n",
      "         latitude   longitude  \n",
      "27822  33.9325000 -114.005000  \n",
      "35692  36.9741667 -122.029722  \n",
      "58591    4.440663  -75.244141  \n"
     ]
    }
   ],
   "source": [
    "# find the errors\n",
    "print ufos[ufos['duration_sec'].str.contains('`', na=False)]\n",
    "\n",
    "# from the result we see that we need to set values to 3 rows of this instance\n",
    "ufos = ufos.set_value(27822, 'duration_sec', '2')\n",
    "ufos = ufos.set_value(35692, 'duration_sec', '8')\n",
    "ufos = ufos.set_value(58591, 'duration_sec', '0.5')"
   ]
  },
  {
   "cell_type": "code",
   "execution_count": 4,
   "metadata": {
    "collapsed": false
   },
   "outputs": [
    {
     "ename": "ValueError",
     "evalue": "('Unable to parse string \"33q.200088\" at position 43782', u'occurred at index latitude')",
     "output_type": "error",
     "traceback": [
      "\u001b[0;31m---------------------------------------------------------------------------\u001b[0m",
      "\u001b[0;31mValueError\u001b[0m                                Traceback (most recent call last)",
      "\u001b[0;32m<ipython-input-4-9824d05478a2>\u001b[0m in \u001b[0;36m<module>\u001b[0;34m()\u001b[0m\n\u001b[1;32m      1\u001b[0m \u001b[0;31m# try again\u001b[0m\u001b[0;34m\u001b[0m\u001b[0;34m\u001b[0m\u001b[0m\n\u001b[0;32m----> 2\u001b[0;31m \u001b[0mufos\u001b[0m\u001b[0;34m[\u001b[0m\u001b[0;34m[\u001b[0m\u001b[0;34m'duration_sec'\u001b[0m\u001b[0;34m,\u001b[0m \u001b[0;34m'latitude'\u001b[0m\u001b[0;34m]\u001b[0m\u001b[0;34m]\u001b[0m \u001b[0;34m=\u001b[0m \u001b[0mufos\u001b[0m\u001b[0;34m[\u001b[0m\u001b[0;34m[\u001b[0m\u001b[0;34m'duration_sec'\u001b[0m\u001b[0;34m,\u001b[0m \u001b[0;34m'latitude'\u001b[0m\u001b[0;34m]\u001b[0m\u001b[0;34m]\u001b[0m\u001b[0;34m.\u001b[0m\u001b[0mapply\u001b[0m\u001b[0;34m(\u001b[0m\u001b[0mpd\u001b[0m\u001b[0;34m.\u001b[0m\u001b[0mto_numeric\u001b[0m\u001b[0;34m)\u001b[0m\u001b[0;34m\u001b[0m\u001b[0m\n\u001b[0m",
      "\u001b[0;32m//anaconda/envs/py27/lib/python2.7/site-packages/pandas/core/frame.pyc\u001b[0m in \u001b[0;36mapply\u001b[0;34m(self, func, axis, broadcast, raw, reduce, args, **kwds)\u001b[0m\n\u001b[1;32m   4150\u001b[0m                     \u001b[0;32mif\u001b[0m \u001b[0mreduce\u001b[0m \u001b[0;32mis\u001b[0m \u001b[0mNone\u001b[0m\u001b[0;34m:\u001b[0m\u001b[0;34m\u001b[0m\u001b[0m\n\u001b[1;32m   4151\u001b[0m                         \u001b[0mreduce\u001b[0m \u001b[0;34m=\u001b[0m \u001b[0mTrue\u001b[0m\u001b[0;34m\u001b[0m\u001b[0m\n\u001b[0;32m-> 4152\u001b[0;31m                     \u001b[0;32mreturn\u001b[0m \u001b[0mself\u001b[0m\u001b[0;34m.\u001b[0m\u001b[0m_apply_standard\u001b[0m\u001b[0;34m(\u001b[0m\u001b[0mf\u001b[0m\u001b[0;34m,\u001b[0m \u001b[0maxis\u001b[0m\u001b[0;34m,\u001b[0m \u001b[0mreduce\u001b[0m\u001b[0;34m=\u001b[0m\u001b[0mreduce\u001b[0m\u001b[0;34m)\u001b[0m\u001b[0;34m\u001b[0m\u001b[0m\n\u001b[0m\u001b[1;32m   4153\u001b[0m             \u001b[0;32melse\u001b[0m\u001b[0;34m:\u001b[0m\u001b[0;34m\u001b[0m\u001b[0m\n\u001b[1;32m   4154\u001b[0m                 \u001b[0;32mreturn\u001b[0m \u001b[0mself\u001b[0m\u001b[0;34m.\u001b[0m\u001b[0m_apply_broadcast\u001b[0m\u001b[0;34m(\u001b[0m\u001b[0mf\u001b[0m\u001b[0;34m,\u001b[0m \u001b[0maxis\u001b[0m\u001b[0;34m)\u001b[0m\u001b[0;34m\u001b[0m\u001b[0m\n",
      "\u001b[0;32m//anaconda/envs/py27/lib/python2.7/site-packages/pandas/core/frame.pyc\u001b[0m in \u001b[0;36m_apply_standard\u001b[0;34m(self, func, axis, ignore_failures, reduce)\u001b[0m\n\u001b[1;32m   4246\u001b[0m             \u001b[0;32mtry\u001b[0m\u001b[0;34m:\u001b[0m\u001b[0;34m\u001b[0m\u001b[0m\n\u001b[1;32m   4247\u001b[0m                 \u001b[0;32mfor\u001b[0m \u001b[0mi\u001b[0m\u001b[0;34m,\u001b[0m \u001b[0mv\u001b[0m \u001b[0;32min\u001b[0m \u001b[0menumerate\u001b[0m\u001b[0;34m(\u001b[0m\u001b[0mseries_gen\u001b[0m\u001b[0;34m)\u001b[0m\u001b[0;34m:\u001b[0m\u001b[0;34m\u001b[0m\u001b[0m\n\u001b[0;32m-> 4248\u001b[0;31m                     \u001b[0mresults\u001b[0m\u001b[0;34m[\u001b[0m\u001b[0mi\u001b[0m\u001b[0;34m]\u001b[0m \u001b[0;34m=\u001b[0m \u001b[0mfunc\u001b[0m\u001b[0;34m(\u001b[0m\u001b[0mv\u001b[0m\u001b[0;34m)\u001b[0m\u001b[0;34m\u001b[0m\u001b[0m\n\u001b[0m\u001b[1;32m   4249\u001b[0m                     \u001b[0mkeys\u001b[0m\u001b[0;34m.\u001b[0m\u001b[0mappend\u001b[0m\u001b[0;34m(\u001b[0m\u001b[0mv\u001b[0m\u001b[0;34m.\u001b[0m\u001b[0mname\u001b[0m\u001b[0;34m)\u001b[0m\u001b[0;34m\u001b[0m\u001b[0m\n\u001b[1;32m   4250\u001b[0m             \u001b[0;32mexcept\u001b[0m \u001b[0mException\u001b[0m \u001b[0;32mas\u001b[0m \u001b[0me\u001b[0m\u001b[0;34m:\u001b[0m\u001b[0;34m\u001b[0m\u001b[0m\n",
      "\u001b[0;32m//anaconda/envs/py27/lib/python2.7/site-packages/pandas/tools/util.pyc\u001b[0m in \u001b[0;36mto_numeric\u001b[0;34m(arg, errors, downcast)\u001b[0m\n\u001b[1;32m    193\u001b[0m             \u001b[0mcoerce_numeric\u001b[0m \u001b[0;34m=\u001b[0m \u001b[0mFalse\u001b[0m \u001b[0;32mif\u001b[0m \u001b[0merrors\u001b[0m \u001b[0;32min\u001b[0m \u001b[0;34m(\u001b[0m\u001b[0;34m'ignore'\u001b[0m\u001b[0;34m,\u001b[0m \u001b[0;34m'raise'\u001b[0m\u001b[0;34m)\u001b[0m \u001b[0;32melse\u001b[0m \u001b[0mTrue\u001b[0m\u001b[0;34m\u001b[0m\u001b[0m\n\u001b[1;32m    194\u001b[0m             values = lib.maybe_convert_numeric(values, set(),\n\u001b[0;32m--> 195\u001b[0;31m                                                coerce_numeric=coerce_numeric)\n\u001b[0m\u001b[1;32m    196\u001b[0m \u001b[0;34m\u001b[0m\u001b[0m\n\u001b[1;32m    197\u001b[0m     \u001b[0;32mexcept\u001b[0m \u001b[0mException\u001b[0m\u001b[0;34m:\u001b[0m\u001b[0;34m\u001b[0m\u001b[0m\n",
      "\u001b[0;32mpandas/src/inference.pyx\u001b[0m in \u001b[0;36mpandas.lib.maybe_convert_numeric (pandas/lib.c:56097)\u001b[0;34m()\u001b[0m\n",
      "\u001b[0;31mValueError\u001b[0m: ('Unable to parse string \"33q.200088\" at position 43782', u'occurred at index latitude')"
     ]
    }
   ],
   "source": [
    "# try again\n",
    "ufos[['duration_sec', 'latitude']] = ufos[['duration_sec', 'latitude']].apply(pd.to_numeric)"
   ]
  },
  {
   "cell_type": "code",
   "execution_count": 5,
   "metadata": {
    "collapsed": false
   },
   "outputs": [
    {
     "name": "stdout",
     "output_type": "stream",
     "text": [
      "             date_seen                          city state_abbr country  \\\n",
      "43782  5/22/1974 05:30  mescalero indian reservation         nm     NaN   \n",
      "\n",
      "           shape duration_sec duration_min  \\\n",
      "43782  rectangle          180    two hours   \n",
      "\n",
      "                                                comments date_posted  \\\n",
      "43782  Huge rectangular object emmitting intense whit...  2012-04-18   \n",
      "\n",
      "         latitude   longitude  \n",
      "43782  33q.200088 -105.624152  \n"
     ]
    }
   ],
   "source": [
    "print ufos[ufos['latitude'].str.contains('[a-zA-Z]', na=False)]\n",
    "\n",
    "# we again see that lat has a letter in one of the positions we'll check to\n",
    "# see how many there are\n",
    "ufos = ufos.set_value(43782, 'latitude', '33.200088')"
   ]
  },
  {
   "cell_type": "markdown",
   "metadata": {},
   "source": [
    "### Update duration_min from duration_sec"
   ]
  },
  {
   "cell_type": "code",
   "execution_count": 6,
   "metadata": {
    "collapsed": false
   },
   "outputs": [],
   "source": [
    "# change duration in seconds and latitude to numeric\n",
    "ufos[['duration_sec', 'latitude']] = ufos[['duration_sec', 'latitude']].apply(pd.to_numeric)\n",
    "\n",
    "# change seconds to minutes\n",
    "ufos['duration_min'] =  ufos['duration_sec']/60\n",
    "\n",
    "# drop the seconds column, we can get minutes from seconds\n",
    "del ufos['duration_sec']"
   ]
  },
  {
   "cell_type": "markdown",
   "metadata": {},
   "source": [
    "## Reformat names of records & set DateTime index"
   ]
  },
  {
   "cell_type": "code",
   "execution_count": 7,
   "metadata": {
    "collapsed": false
   },
   "outputs": [
    {
     "name": "stdout",
     "output_type": "stream",
     "text": [
      "(65114, 9)\n"
     ]
    }
   ],
   "source": [
    "# upper case words as necessary\n",
    "ufos['city'] = ufos['city'].str.title()\n",
    "ufos['state_abbr'] = ufos['state_abbr'].str.upper()\n",
    "ufos['country'] = ufos['country'].str.upper()\n",
    "\n",
    "# change date_seen col to date_time type\n",
    "ufos['date_seen'] = pd.to_datetime(ufos['date_seen'], errors='coerce')\n",
    "\n",
    "# set row indices as date_seen\n",
    "ufos = ufos.set_index('date_seen')\n",
    "\n",
    "# check how many US records there are\n",
    "print ufos[ufos['country'] == 'US'].shape"
   ]
  },
  {
   "cell_type": "markdown",
   "metadata": {},
   "source": [
    "## Explore for anomalies"
   ]
  },
  {
   "cell_type": "code",
   "execution_count": 8,
   "metadata": {
    "collapsed": false
   },
   "outputs": [
    {
     "name": "stdout",
     "output_type": "stream",
     "text": [
      "(6414, 9)\n"
     ]
    },
    {
     "data": {
      "text/html": [
       "<div>\n",
       "<table border=\"1\" class=\"dataframe\">\n",
       "  <thead>\n",
       "    <tr style=\"text-align: right;\">\n",
       "      <th></th>\n",
       "      <th>city</th>\n",
       "      <th>state_abbr</th>\n",
       "      <th>country</th>\n",
       "      <th>shape</th>\n",
       "      <th>duration_min</th>\n",
       "      <th>comments</th>\n",
       "      <th>date_posted</th>\n",
       "      <th>latitude</th>\n",
       "      <th>longitude</th>\n",
       "    </tr>\n",
       "    <tr>\n",
       "      <th>date_seen</th>\n",
       "      <th></th>\n",
       "      <th></th>\n",
       "      <th></th>\n",
       "      <th></th>\n",
       "      <th></th>\n",
       "      <th></th>\n",
       "      <th></th>\n",
       "      <th></th>\n",
       "      <th></th>\n",
       "    </tr>\n",
       "  </thead>\n",
       "  <tbody>\n",
       "    <tr>\n",
       "      <th>1949-10-10 21:00:00</th>\n",
       "      <td>Lackland Afb</td>\n",
       "      <td>TX</td>\n",
       "      <td>NaN</td>\n",
       "      <td>light</td>\n",
       "      <td>120.0</td>\n",
       "      <td>1949 Lackland AFB&amp;#44 TX.  Lights racing acros...</td>\n",
       "      <td>2005-12-16</td>\n",
       "      <td>29.384210</td>\n",
       "      <td>-98.581082</td>\n",
       "    </tr>\n",
       "    <tr>\n",
       "      <th>1979-10-10 22:00:00</th>\n",
       "      <td>Saddle Lake (Canada)</td>\n",
       "      <td>AB</td>\n",
       "      <td>NaN</td>\n",
       "      <td>triangle</td>\n",
       "      <td>4.5</td>\n",
       "      <td>Lights far above&amp;#44  that glance; then flee f...</td>\n",
       "      <td>2005-01-19</td>\n",
       "      <td>53.970571</td>\n",
       "      <td>-111.689885</td>\n",
       "    </tr>\n",
       "    <tr>\n",
       "      <th>1986-10-10 20:00:00</th>\n",
       "      <td>Holmes/Pawling</td>\n",
       "      <td>NY</td>\n",
       "      <td>NaN</td>\n",
       "      <td>chevron</td>\n",
       "      <td>3.0</td>\n",
       "      <td>Football Field Sized Chevron with bright white...</td>\n",
       "      <td>2007-10-08</td>\n",
       "      <td>41.523427</td>\n",
       "      <td>-73.646795</td>\n",
       "    </tr>\n",
       "    <tr>\n",
       "      <th>1989-10-10 21:00:00</th>\n",
       "      <td>Kranklin</td>\n",
       "      <td>KY</td>\n",
       "      <td>NaN</td>\n",
       "      <td>triangle</td>\n",
       "      <td>3.0</td>\n",
       "      <td>Triangle seen in franklin Ky - october 1989</td>\n",
       "      <td>2005-05-11</td>\n",
       "      <td>36.722263</td>\n",
       "      <td>-86.577218</td>\n",
       "    </tr>\n",
       "    <tr>\n",
       "      <th>1994-10-10 15:00:00</th>\n",
       "      <td>Mercedies</td>\n",
       "      <td>TX</td>\n",
       "      <td>NaN</td>\n",
       "      <td>cigar</td>\n",
       "      <td>60.0</td>\n",
       "      <td>ufo chased by fighter jet over Rio Grande Vall...</td>\n",
       "      <td>2011-12-12</td>\n",
       "      <td>26.149798</td>\n",
       "      <td>-97.913611</td>\n",
       "    </tr>\n",
       "  </tbody>\n",
       "</table>\n",
       "</div>"
      ],
      "text/plain": [
       "                                     city state_abbr country     shape  \\\n",
       "date_seen                                                                \n",
       "1949-10-10 21:00:00          Lackland Afb         TX     NaN     light   \n",
       "1979-10-10 22:00:00  Saddle Lake (Canada)         AB     NaN  triangle   \n",
       "1986-10-10 20:00:00        Holmes/Pawling         NY     NaN   chevron   \n",
       "1989-10-10 21:00:00              Kranklin         KY     NaN  triangle   \n",
       "1994-10-10 15:00:00             Mercedies         TX     NaN     cigar   \n",
       "\n",
       "                     duration_min  \\\n",
       "date_seen                           \n",
       "1949-10-10 21:00:00         120.0   \n",
       "1979-10-10 22:00:00           4.5   \n",
       "1986-10-10 20:00:00           3.0   \n",
       "1989-10-10 21:00:00           3.0   \n",
       "1994-10-10 15:00:00          60.0   \n",
       "\n",
       "                                                              comments  \\\n",
       "date_seen                                                                \n",
       "1949-10-10 21:00:00  1949 Lackland AFB&#44 TX.  Lights racing acros...   \n",
       "1979-10-10 22:00:00  Lights far above&#44  that glance; then flee f...   \n",
       "1986-10-10 20:00:00  Football Field Sized Chevron with bright white...   \n",
       "1989-10-10 21:00:00        Triangle seen in franklin Ky - october 1989   \n",
       "1994-10-10 15:00:00  ufo chased by fighter jet over Rio Grande Vall...   \n",
       "\n",
       "                    date_posted   latitude   longitude  \n",
       "date_seen                                               \n",
       "1949-10-10 21:00:00  2005-12-16  29.384210  -98.581082  \n",
       "1979-10-10 22:00:00  2005-01-19  53.970571 -111.689885  \n",
       "1986-10-10 20:00:00  2007-10-08  41.523427  -73.646795  \n",
       "1989-10-10 21:00:00  2005-05-11  36.722263  -86.577218  \n",
       "1994-10-10 15:00:00  2011-12-12  26.149798  -97.913611  "
      ]
     },
     "execution_count": 8,
     "metadata": {},
     "output_type": "execute_result"
    }
   ],
   "source": [
    "# want to subet by country, but check if there is any NA we can change\n",
    "na_country = ufos[ufos['state_abbr'].notnull() & ufos['country'].isnull()]\n",
    "print na_country.shape\n",
    "na_country.head()"
   ]
  },
  {
   "cell_type": "markdown",
   "metadata": {},
   "source": [
    "From looking we can see many records in the DF that have a state (most likely in the US) but no country. We can match them to state_table.csv which was downloaded from https://statetable.com/ with the following steps\n",
    "\n",
    "- USA\n",
    "- Just include states/provinces\n",
    "- No, do not include DC in the list\n",
    "- No, do not include military addresses \n",
    "- Only include current states and territories \n",
    "- Do not include the US Minor Outlying Islands \n",
    "- A CSV file I can open in my office suite"
   ]
  },
  {
   "cell_type": "markdown",
   "metadata": {},
   "source": [
    "### Combine state data"
   ]
  },
  {
   "cell_type": "code",
   "execution_count": 9,
   "metadata": {
    "collapsed": false
   },
   "outputs": [
    {
     "data": {
      "text/html": [
       "<div>\n",
       "<table border=\"1\" class=\"dataframe\">\n",
       "  <thead>\n",
       "    <tr style=\"text-align: right;\">\n",
       "      <th></th>\n",
       "      <th>id</th>\n",
       "      <th>name</th>\n",
       "      <th>abbreviation</th>\n",
       "      <th>country</th>\n",
       "      <th>type</th>\n",
       "      <th>sort</th>\n",
       "      <th>status</th>\n",
       "      <th>occupied</th>\n",
       "      <th>notes</th>\n",
       "      <th>fips_state</th>\n",
       "      <th>assoc_press</th>\n",
       "      <th>standard_federal_region</th>\n",
       "      <th>census_region</th>\n",
       "      <th>census_region_name</th>\n",
       "      <th>census_division</th>\n",
       "      <th>census_division_name</th>\n",
       "      <th>circuit_court</th>\n",
       "    </tr>\n",
       "  </thead>\n",
       "  <tbody>\n",
       "    <tr>\n",
       "      <th>0</th>\n",
       "      <td>1</td>\n",
       "      <td>Alabama</td>\n",
       "      <td>AL</td>\n",
       "      <td>USA</td>\n",
       "      <td>state</td>\n",
       "      <td>10</td>\n",
       "      <td>current</td>\n",
       "      <td>occupied</td>\n",
       "      <td>NaN</td>\n",
       "      <td>1</td>\n",
       "      <td>Ala.</td>\n",
       "      <td>IV</td>\n",
       "      <td>3</td>\n",
       "      <td>South</td>\n",
       "      <td>6</td>\n",
       "      <td>East South Central</td>\n",
       "      <td>11</td>\n",
       "    </tr>\n",
       "    <tr>\n",
       "      <th>1</th>\n",
       "      <td>2</td>\n",
       "      <td>Alaska</td>\n",
       "      <td>AK</td>\n",
       "      <td>USA</td>\n",
       "      <td>state</td>\n",
       "      <td>10</td>\n",
       "      <td>current</td>\n",
       "      <td>occupied</td>\n",
       "      <td>NaN</td>\n",
       "      <td>2</td>\n",
       "      <td>Alaska</td>\n",
       "      <td>X</td>\n",
       "      <td>4</td>\n",
       "      <td>West</td>\n",
       "      <td>9</td>\n",
       "      <td>Pacific</td>\n",
       "      <td>9</td>\n",
       "    </tr>\n",
       "    <tr>\n",
       "      <th>2</th>\n",
       "      <td>3</td>\n",
       "      <td>Arizona</td>\n",
       "      <td>AZ</td>\n",
       "      <td>USA</td>\n",
       "      <td>state</td>\n",
       "      <td>10</td>\n",
       "      <td>current</td>\n",
       "      <td>occupied</td>\n",
       "      <td>NaN</td>\n",
       "      <td>4</td>\n",
       "      <td>Ariz.</td>\n",
       "      <td>IX</td>\n",
       "      <td>4</td>\n",
       "      <td>West</td>\n",
       "      <td>8</td>\n",
       "      <td>Mountain</td>\n",
       "      <td>9</td>\n",
       "    </tr>\n",
       "    <tr>\n",
       "      <th>3</th>\n",
       "      <td>4</td>\n",
       "      <td>Arkansas</td>\n",
       "      <td>AR</td>\n",
       "      <td>USA</td>\n",
       "      <td>state</td>\n",
       "      <td>10</td>\n",
       "      <td>current</td>\n",
       "      <td>occupied</td>\n",
       "      <td>NaN</td>\n",
       "      <td>5</td>\n",
       "      <td>Ark.</td>\n",
       "      <td>VI</td>\n",
       "      <td>3</td>\n",
       "      <td>South</td>\n",
       "      <td>7</td>\n",
       "      <td>West South Central</td>\n",
       "      <td>8</td>\n",
       "    </tr>\n",
       "    <tr>\n",
       "      <th>4</th>\n",
       "      <td>5</td>\n",
       "      <td>California</td>\n",
       "      <td>CA</td>\n",
       "      <td>USA</td>\n",
       "      <td>state</td>\n",
       "      <td>10</td>\n",
       "      <td>current</td>\n",
       "      <td>occupied</td>\n",
       "      <td>NaN</td>\n",
       "      <td>6</td>\n",
       "      <td>Calif.</td>\n",
       "      <td>IX</td>\n",
       "      <td>4</td>\n",
       "      <td>West</td>\n",
       "      <td>9</td>\n",
       "      <td>Pacific</td>\n",
       "      <td>9</td>\n",
       "    </tr>\n",
       "  </tbody>\n",
       "</table>\n",
       "</div>"
      ],
      "text/plain": [
       "   id        name abbreviation country   type  sort   status  occupied  notes  \\\n",
       "0   1     Alabama           AL     USA  state    10  current  occupied    NaN   \n",
       "1   2      Alaska           AK     USA  state    10  current  occupied    NaN   \n",
       "2   3     Arizona           AZ     USA  state    10  current  occupied    NaN   \n",
       "3   4    Arkansas           AR     USA  state    10  current  occupied    NaN   \n",
       "4   5  California           CA     USA  state    10  current  occupied    NaN   \n",
       "\n",
       "   fips_state assoc_press standard_federal_region  census_region  \\\n",
       "0           1        Ala.                      IV              3   \n",
       "1           2      Alaska                       X              4   \n",
       "2           4       Ariz.                      IX              4   \n",
       "3           5        Ark.                      VI              3   \n",
       "4           6      Calif.                      IX              4   \n",
       "\n",
       "  census_region_name  census_division census_division_name  circuit_court  \n",
       "0              South                6   East South Central             11  \n",
       "1               West                9              Pacific              9  \n",
       "2               West                8             Mountain              9  \n",
       "3              South                7   West South Central              8  \n",
       "4               West                9              Pacific              9  "
      ]
     },
     "execution_count": 9,
     "metadata": {},
     "output_type": "execute_result"
    }
   ],
   "source": [
    "state_table = pd.read_csv('state_table.csv')\n",
    "state_table.head()"
   ]
  },
  {
   "cell_type": "code",
   "execution_count": 10,
   "metadata": {
    "collapsed": false
   },
   "outputs": [
    {
     "name": "stdout",
     "output_type": "stream",
     "text": [
      "(70828, 9)\n"
     ]
    }
   ],
   "source": [
    "cond1 = ufos['state_abbr'].notnull() & ufos['country'].isnull()\n",
    "cond2 = ufos['state_abbr'].isin(state_table['abbreviation'])     # filtering join\n",
    "ufos.loc[cond1 & cond2, 'country'] = 'US'\n",
    "\n",
    "# check how many US records there are now\n",
    "print ufos[ufos['country'] == 'US'].shape"
   ]
  },
  {
   "cell_type": "code",
   "execution_count": 11,
   "metadata": {
    "collapsed": false,
    "scrolled": true
   },
   "outputs": [
    {
     "name": "stdout",
     "output_type": "stream",
     "text": [
      "(32, 9)\n"
     ]
    },
    {
     "data": {
      "text/html": [
       "<div>\n",
       "<table border=\"1\" class=\"dataframe\">\n",
       "  <thead>\n",
       "    <tr style=\"text-align: right;\">\n",
       "      <th></th>\n",
       "      <th>city</th>\n",
       "      <th>state_abbr</th>\n",
       "      <th>country</th>\n",
       "      <th>shape</th>\n",
       "      <th>duration_min</th>\n",
       "      <th>comments</th>\n",
       "      <th>date_posted</th>\n",
       "      <th>latitude</th>\n",
       "      <th>longitude</th>\n",
       "    </tr>\n",
       "    <tr>\n",
       "      <th>date_seen</th>\n",
       "      <th></th>\n",
       "      <th></th>\n",
       "      <th></th>\n",
       "      <th></th>\n",
       "      <th></th>\n",
       "      <th></th>\n",
       "      <th></th>\n",
       "      <th></th>\n",
       "      <th></th>\n",
       "    </tr>\n",
       "  </thead>\n",
       "  <tbody>\n",
       "    <tr>\n",
       "      <th>1998-10-11 14:05:00</th>\n",
       "      <td>Vega Baja (Puerto Rico)</td>\n",
       "      <td>PR</td>\n",
       "      <td>US</td>\n",
       "      <td>cigar</td>\n",
       "      <td>2.000000</td>\n",
       "      <td>I went out and saw this cigar shaped object&amp;#4...</td>\n",
       "      <td>1998-11-01</td>\n",
       "      <td>18.446389</td>\n",
       "      <td>-66.388056</td>\n",
       "    </tr>\n",
       "    <tr>\n",
       "      <th>1999-01-10 01:00:00</th>\n",
       "      <td>San Lorenzo (Puerto Rico)</td>\n",
       "      <td>PR</td>\n",
       "      <td>US</td>\n",
       "      <td>formation</td>\n",
       "      <td>1.000000</td>\n",
       "      <td>I was with my parent inside our car when sudde...</td>\n",
       "      <td>1999-11-02</td>\n",
       "      <td>18.191389</td>\n",
       "      <td>-65.961389</td>\n",
       "    </tr>\n",
       "    <tr>\n",
       "      <th>2002-11-01 23:30:00</th>\n",
       "      <td>Arroyo (Puerto Rico)</td>\n",
       "      <td>PR</td>\n",
       "      <td>US</td>\n",
       "      <td>triangle</td>\n",
       "      <td>0.500000</td>\n",
       "      <td>we saw what it looked to be a triangle shap ob...</td>\n",
       "      <td>2002-11-04</td>\n",
       "      <td>17.967778</td>\n",
       "      <td>-66.061667</td>\n",
       "    </tr>\n",
       "    <tr>\n",
       "      <th>1989-11-15 23:00:00</th>\n",
       "      <td>Moca (Puerto Rico)</td>\n",
       "      <td>PR</td>\n",
       "      <td>US</td>\n",
       "      <td>unknown</td>\n",
       "      <td>1.000000</td>\n",
       "      <td>Late&amp;#44 cloudy night in Moca&amp;#44 Puerto Rico....</td>\n",
       "      <td>1999-02-16</td>\n",
       "      <td>18.396667</td>\n",
       "      <td>-67.113611</td>\n",
       "    </tr>\n",
       "    <tr>\n",
       "      <th>2011-12-11 20:08:00</th>\n",
       "      <td>Washington</td>\n",
       "      <td>DC</td>\n",
       "      <td>US</td>\n",
       "      <td>cylinder</td>\n",
       "      <td>0.066667</td>\n",
       "      <td>Luminous object thought to be a star?</td>\n",
       "      <td>2012-01-12</td>\n",
       "      <td>38.895000</td>\n",
       "      <td>-77.036667</td>\n",
       "    </tr>\n",
       "  </tbody>\n",
       "</table>\n",
       "</div>"
      ],
      "text/plain": [
       "                                          city state_abbr country      shape  \\\n",
       "date_seen                                                                      \n",
       "1998-10-11 14:05:00    Vega Baja (Puerto Rico)         PR      US      cigar   \n",
       "1999-01-10 01:00:00  San Lorenzo (Puerto Rico)         PR      US  formation   \n",
       "2002-11-01 23:30:00       Arroyo (Puerto Rico)         PR      US   triangle   \n",
       "1989-11-15 23:00:00         Moca (Puerto Rico)         PR      US    unknown   \n",
       "2011-12-11 20:08:00                 Washington         DC      US   cylinder   \n",
       "\n",
       "                     duration_min  \\\n",
       "date_seen                           \n",
       "1998-10-11 14:05:00      2.000000   \n",
       "1999-01-10 01:00:00      1.000000   \n",
       "2002-11-01 23:30:00      0.500000   \n",
       "1989-11-15 23:00:00      1.000000   \n",
       "2011-12-11 20:08:00      0.066667   \n",
       "\n",
       "                                                              comments  \\\n",
       "date_seen                                                                \n",
       "1998-10-11 14:05:00  I went out and saw this cigar shaped object&#4...   \n",
       "1999-01-10 01:00:00  I was with my parent inside our car when sudde...   \n",
       "2002-11-01 23:30:00  we saw what it looked to be a triangle shap ob...   \n",
       "1989-11-15 23:00:00  Late&#44 cloudy night in Moca&#44 Puerto Rico....   \n",
       "2011-12-11 20:08:00              Luminous object thought to be a star?   \n",
       "\n",
       "                    date_posted   latitude  longitude  \n",
       "date_seen                                              \n",
       "1998-10-11 14:05:00  1998-11-01  18.446389 -66.388056  \n",
       "1999-01-10 01:00:00  1999-11-02  18.191389 -65.961389  \n",
       "2002-11-01 23:30:00  2002-11-04  17.967778 -66.061667  \n",
       "1989-11-15 23:00:00  1999-02-16  18.396667 -67.113611  \n",
       "2011-12-11 20:08:00  2012-01-12  38.895000 -77.036667  "
      ]
     },
     "execution_count": 11,
     "metadata": {},
     "output_type": "execute_result"
    }
   ],
   "source": [
    "# check now how many records are in US but are NOT in the abbrevations list in state_table\n",
    "cond1 = ufos['country'] == 'US'\n",
    "cond2 = ~ufos['state_abbr'].isin(state_table['abbreviation'])\n",
    "print ufos.loc[cond1 & cond2].shape\n",
    "ufos.loc[cond1 & cond2].head()"
   ]
  },
  {
   "cell_type": "markdown",
   "metadata": {},
   "source": [
    "We can see these are either Purto Rico or Washington, but there's only 32 so we wont include these for the analysis"
   ]
  },
  {
   "cell_type": "code",
   "execution_count": 12,
   "metadata": {
    "collapsed": false
   },
   "outputs": [
    {
     "name": "stdout",
     "output_type": "stream",
     "text": [
      "(70066, 13)\n"
     ]
    },
    {
     "data": {
      "text/html": [
       "<div>\n",
       "<table border=\"1\" class=\"dataframe\">\n",
       "  <thead>\n",
       "    <tr style=\"text-align: right;\">\n",
       "      <th></th>\n",
       "      <th>city</th>\n",
       "      <th>state_abbr</th>\n",
       "      <th>country</th>\n",
       "      <th>shape</th>\n",
       "      <th>duration_min</th>\n",
       "      <th>comments</th>\n",
       "      <th>date_posted</th>\n",
       "      <th>latitude</th>\n",
       "      <th>longitude</th>\n",
       "      <th>abbreviation</th>\n",
       "      <th>name</th>\n",
       "      <th>census_region_name</th>\n",
       "      <th>census_division_name</th>\n",
       "    </tr>\n",
       "    <tr>\n",
       "      <th>date_seen</th>\n",
       "      <th></th>\n",
       "      <th></th>\n",
       "      <th></th>\n",
       "      <th></th>\n",
       "      <th></th>\n",
       "      <th></th>\n",
       "      <th></th>\n",
       "      <th></th>\n",
       "      <th></th>\n",
       "      <th></th>\n",
       "      <th></th>\n",
       "      <th></th>\n",
       "      <th></th>\n",
       "    </tr>\n",
       "  </thead>\n",
       "  <tbody>\n",
       "    <tr>\n",
       "      <th>1956-10-10 21:00:00</th>\n",
       "      <td>Edna</td>\n",
       "      <td>TX</td>\n",
       "      <td>US</td>\n",
       "      <td>circle</td>\n",
       "      <td>0.333333</td>\n",
       "      <td>My older brother and twin sister were leaving ...</td>\n",
       "      <td>2004-01-17</td>\n",
       "      <td>28.978333</td>\n",
       "      <td>-96.645833</td>\n",
       "      <td>TX</td>\n",
       "      <td>Texas</td>\n",
       "      <td>South</td>\n",
       "      <td>West South Central</td>\n",
       "    </tr>\n",
       "    <tr>\n",
       "      <th>1977-10-10 12:00:00</th>\n",
       "      <td>San Antonio</td>\n",
       "      <td>TX</td>\n",
       "      <td>US</td>\n",
       "      <td>other</td>\n",
       "      <td>0.500000</td>\n",
       "      <td>i was about six or seven and my family and me ...</td>\n",
       "      <td>2005-02-24</td>\n",
       "      <td>29.423889</td>\n",
       "      <td>-98.493333</td>\n",
       "      <td>TX</td>\n",
       "      <td>Texas</td>\n",
       "      <td>South</td>\n",
       "      <td>West South Central</td>\n",
       "    </tr>\n",
       "    <tr>\n",
       "      <th>1980-10-10 19:00:00</th>\n",
       "      <td>Houston</td>\n",
       "      <td>TX</td>\n",
       "      <td>US</td>\n",
       "      <td>sphere</td>\n",
       "      <td>3.000000</td>\n",
       "      <td>Sphere&amp;#44 No lights&amp;#44  moving through neigh...</td>\n",
       "      <td>2005-04-16</td>\n",
       "      <td>29.763056</td>\n",
       "      <td>-95.363056</td>\n",
       "      <td>TX</td>\n",
       "      <td>Texas</td>\n",
       "      <td>South</td>\n",
       "      <td>West South Central</td>\n",
       "    </tr>\n",
       "    <tr>\n",
       "      <th>1980-10-10 22:00:00</th>\n",
       "      <td>Dallas</td>\n",
       "      <td>TX</td>\n",
       "      <td>US</td>\n",
       "      <td>unknown</td>\n",
       "      <td>5.000000</td>\n",
       "      <td>Strange shape shifting craft of pure light ene...</td>\n",
       "      <td>2002-10-28</td>\n",
       "      <td>32.783333</td>\n",
       "      <td>-96.800000</td>\n",
       "      <td>TX</td>\n",
       "      <td>Texas</td>\n",
       "      <td>South</td>\n",
       "      <td>West South Central</td>\n",
       "    </tr>\n",
       "    <tr>\n",
       "      <th>1984-10-10 05:00:00</th>\n",
       "      <td>Houston</td>\n",
       "      <td>TX</td>\n",
       "      <td>US</td>\n",
       "      <td>circle</td>\n",
       "      <td>1.000000</td>\n",
       "      <td>2 experience with unkown</td>\n",
       "      <td>2012-04-18</td>\n",
       "      <td>29.763056</td>\n",
       "      <td>-95.363056</td>\n",
       "      <td>TX</td>\n",
       "      <td>Texas</td>\n",
       "      <td>South</td>\n",
       "      <td>West South Central</td>\n",
       "    </tr>\n",
       "  </tbody>\n",
       "</table>\n",
       "</div>"
      ],
      "text/plain": [
       "                            city state_abbr country    shape  duration_min  \\\n",
       "date_seen                                                                    \n",
       "1956-10-10 21:00:00         Edna         TX      US   circle      0.333333   \n",
       "1977-10-10 12:00:00  San Antonio         TX      US    other      0.500000   \n",
       "1980-10-10 19:00:00      Houston         TX      US   sphere      3.000000   \n",
       "1980-10-10 22:00:00       Dallas         TX      US  unknown      5.000000   \n",
       "1984-10-10 05:00:00      Houston         TX      US   circle      1.000000   \n",
       "\n",
       "                                                              comments  \\\n",
       "date_seen                                                                \n",
       "1956-10-10 21:00:00  My older brother and twin sister were leaving ...   \n",
       "1977-10-10 12:00:00  i was about six or seven and my family and me ...   \n",
       "1980-10-10 19:00:00  Sphere&#44 No lights&#44  moving through neigh...   \n",
       "1980-10-10 22:00:00  Strange shape shifting craft of pure light ene...   \n",
       "1984-10-10 05:00:00                           2 experience with unkown   \n",
       "\n",
       "                    date_posted   latitude  longitude abbreviation   name  \\\n",
       "date_seen                                                                   \n",
       "1956-10-10 21:00:00  2004-01-17  28.978333 -96.645833           TX  Texas   \n",
       "1977-10-10 12:00:00  2005-02-24  29.423889 -98.493333           TX  Texas   \n",
       "1980-10-10 19:00:00  2005-04-16  29.763056 -95.363056           TX  Texas   \n",
       "1980-10-10 22:00:00  2002-10-28  32.783333 -96.800000           TX  Texas   \n",
       "1984-10-10 05:00:00  2012-04-18  29.763056 -95.363056           TX  Texas   \n",
       "\n",
       "                    census_region_name census_division_name  \n",
       "date_seen                                                    \n",
       "1956-10-10 21:00:00              South   West South Central  \n",
       "1977-10-10 12:00:00              South   West South Central  \n",
       "1980-10-10 19:00:00              South   West South Central  \n",
       "1980-10-10 22:00:00              South   West South Central  \n",
       "1984-10-10 05:00:00              South   West South Central  "
      ]
     },
     "execution_count": 12,
     "metadata": {},
     "output_type": "execute_result"
    }
   ],
   "source": [
    "# subset the data to be only the US\n",
    "ufos = ufos.loc[ufos['country'] == 'US']\n",
    "\n",
    "# get records from 1953 and beyond (Natural Disasters starts from 1953 onwards)\n",
    "ufos = ufos.loc['1953':]\n",
    "\n",
    "# Here we can merge some specific columns over from the state_table to the ufos DF\n",
    "stble_cols = ['abbreviation', 'name', 'census_region_name', 'census_division_name']\n",
    "ufos = ufos.reset_index().merge(state_table[stble_cols], how='inner', left_on='state_abbr', right_on='abbreviation').set_index('date_seen')\n",
    "\n",
    "print ufos.shape\n",
    "ufos.head()"
   ]
  },
  {
   "cell_type": "markdown",
   "metadata": {},
   "source": [
    "## Output final DF"
   ]
  },
  {
   "cell_type": "code",
   "execution_count": 13,
   "metadata": {
    "collapsed": false
   },
   "outputs": [],
   "source": [
    "# delete the repeated column (abbreviation) and country (we know its in the US)\n",
    "del ufos['abbreviation']\n",
    "del ufos['country']\n",
    "\n",
    "# change names of some columns\n",
    "ufos = ufos.rename(columns={'name':'state', 'census_region_name':'region_name', 'census_division_name':'division_name'})\n",
    "\n",
    "# reorder DF and sort index\n",
    "reorder_cols = ['date_posted','shape','duration_min','comments', 'city', 'state', \n",
    "                'state_abbr','division_name','region_name', 'latitude', 'longitude']\n",
    "\n",
    "ufos = ufos[reorder_cols]\n",
    "ufos = ufos.sort_index()\n",
    "\n",
    "# fill NAs with unknown for shape\n",
    "ufos['shape'] = ufos['shape'].fillna('unknown')\n",
    "\n",
    "# output the DF\n",
    "ufos.to_csv('ufos.csv')"
   ]
  },
  {
   "cell_type": "markdown",
   "metadata": {},
   "source": [
    "### Resources\n",
    "\n",
    "- https://stackoverflow.com/questions/19913659/pandas-conditional-creation-of-a-series-dataframe-column\n",
    "- https://stackoverflow.com/questions/20375561/joining-pandas-dataframes-by-column-names\n",
    "- https://stackoverflow.com/questions/11976503/how-to-keep-index-when-using-pandas-merge\n",
    "- https://stackoverflow.com/questions/14984119/python-pandas-remove-duplicate-columns\n",
    "- https://stackoverflow.com/questions/13148429/how-to-change-the-order-of-dataframe-columns\n",
    "- https://stackoverflow.com/questions/20868394/changing-a-specific-column-name-in-pandas-dataframe"
   ]
  },
  {
   "cell_type": "code",
   "execution_count": null,
   "metadata": {
    "collapsed": false
   },
   "outputs": [],
   "source": []
  }
 ],
 "metadata": {
  "kernelspec": {
   "display_name": "Python [conda env:py27]",
   "language": "python",
   "name": "conda-env-py27-py"
  },
  "language_info": {
   "codemirror_mode": {
    "name": "ipython",
    "version": 2
   },
   "file_extension": ".py",
   "mimetype": "text/x-python",
   "name": "python",
   "nbconvert_exporter": "python",
   "pygments_lexer": "ipython2",
   "version": "2.7.13"
  }
 },
 "nbformat": 4,
 "nbformat_minor": 2
}
